{
 "cells": [
  {
   "cell_type": "markdown",
   "id": "ed1aa2cd-d244-44b0-bb2c-668b08d0039e",
   "metadata": {
    "jupyter": {
     "source_hidden": true
    },
    "tags": []
   },
   "source": [
    "# Data Science Tools and Ecosystem"
   ]
  },
  {
   "cell_type": "markdown",
   "id": "1608e2a8-2eb7-4281-848c-a791754d7f20",
   "metadata": {},
   "source": [
    "In this notebook, Data Science Tools and Ecosystem are summarized"
   ]
  },
  {
   "cell_type": "markdown",
   "id": "eebbf565-c303-4a17-be9a-92e8911e5f5f",
   "metadata": {},
   "source": [
    "## **Objectives:**\n",
    "1. List popular languages for Data Science\n",
    "2. List the commonly used libraries in Data Science\n",
    "3. List popular tool in Data Science\n",
    "4. Evaluate some arithmetic expressions in Python"
   ]
  },
  {
   "cell_type": "markdown",
   "id": "1c245dc2-24c5-4efa-8a0a-e1df8b3b3426",
   "metadata": {},
   "source": [
    "Some of the popular languages that Data Scientists use are:\n",
    "1. R\n",
    "2. Python\n",
    "3. SQL"
   ]
  },
  {
   "cell_type": "markdown",
   "id": "8787f7f8-1b02-4430-a788-c735e3011c01",
   "metadata": {},
   "source": [
    "Some of the commonly used libraries used by Data Scientists include:\n",
    "1. Numpy\n",
    "2. Pandas\n",
    "3. Matplotlib"
   ]
  },
  {
   "cell_type": "markdown",
   "id": "027d8fa3-8711-4e37-b9b2-03533645de3f",
   "metadata": {
    "tags": []
   },
   "source": [
    "|Data Science Tools|\n",
    "|------------------|\n",
    "|MySQL|\n",
    "|TensorFlow|\n",
    "|Jupiter|"
   ]
  },
  {
   "cell_type": "markdown",
   "id": "4f539766-1f76-448a-b29d-7c63e576332b",
   "metadata": {},
   "source": [
    "### Below are few examples of evaluating arithmetic expressions in Python "
   ]
  },
  {
   "cell_type": "code",
   "execution_count": 3,
   "id": "71101658-2cbc-412d-a936-bcc52e5519ee",
   "metadata": {
    "tags": []
   },
   "outputs": [
    {
     "data": {
      "text/plain": [
       "17"
      ]
     },
     "execution_count": 3,
     "metadata": {},
     "output_type": "execute_result"
    }
   ],
   "source": [
    "#This a simple arithmetic expression to multiply then add integers\n",
    "(3*4)+5"
   ]
  },
  {
   "cell_type": "code",
   "execution_count": 6,
   "id": "1c6a6434-0312-4404-996c-d12d5d7b4fc6",
   "metadata": {
    "tags": []
   },
   "outputs": [
    {
     "data": {
      "text/plain": [
       "3.3333333333333335"
      ]
     },
     "execution_count": 6,
     "metadata": {},
     "output_type": "execute_result"
    }
   ],
   "source": [
    "#This will convert 200 minutes to hours by diving by 60 \n",
    "200/60"
   ]
  },
  {
   "cell_type": "markdown",
   "id": "3a777318-ef3b-4b3d-bd11-22fd652f6704",
   "metadata": {
    "tags": []
   },
   "source": [
    "## Author\n",
    "Fabrizio "
   ]
  }
 ],
 "metadata": {
  "kernelspec": {
   "display_name": "Python 3 (ipykernel)",
   "language": "python",
   "name": "python3"
  },
  "language_info": {
   "codemirror_mode": {
    "name": "ipython",
    "version": 3
   },
   "file_extension": ".py",
   "mimetype": "text/x-python",
   "name": "python",
   "nbconvert_exporter": "python",
   "pygments_lexer": "ipython3",
   "version": "3.11.5"
  }
 },
 "nbformat": 4,
 "nbformat_minor": 5
}
